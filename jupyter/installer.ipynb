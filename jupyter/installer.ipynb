{
 "cells": [
  {
   "cell_type": "code",
   "execution_count": 7,
   "metadata": {},
   "outputs": [
    {
     "name": "stdout",
     "output_type": "stream",
     "text": [
      "New storage device(s) detected:\n",
      "Drive Letter: C:\n",
      "Device ID: \\\\.\\PHYSICALDRIVE1\n",
      "Device GUID: SCSI\\DISK&VEN_&PROD_USB_DISK_3.2\\6&1174D5EF&0&000000\n",
      "Caption:  USB DISK 3.2 SCSI Disk Device\n",
      "Model:  USB DISK 3.2 SCSI Disk Device\n",
      "Size (bytes): 1000202273280\n",
      "\n",
      "Device ID: \\\\.\\PHYSICALDRIVE0\n",
      "Device GUID: SCSI\\DISK&VEN_NVME&PROD_WDS500G3X0C-00SJ\\5&37D84352&0&000000\n",
      "Caption: WDS500G3X0C-00SJG0\n",
      "Model: WDS500G3X0C-00SJG0\n",
      "Size (bytes): 500105249280\n",
      "\n",
      "Drive Letter: E:\n",
      "Device ID: \\\\.\\PHYSICALDRIVE2\n",
      "Device GUID: USBSTOR\\DISK&VEN_ADAFRUIT&PROD_NRF_UF2&REV_1.0\\7&369CD32&0&EBD319DBC5802C01&0\n",
      "Caption: Adafruit nRF UF2 USB Device\n",
      "Model: Adafruit nRF UF2 USB Device\n",
      "Size (bytes): 32901120\n",
      "\n",
      "Drive Letter: F:\n",
      "Device ID: \\\\.\\PHYSICALDRIVE3\n",
      "Device GUID: USBSTOR\\DISK&VEN_ADAFRUIT&PROD_NRF_UF2&REV_1.0\\7&1F7E9535&0&1B6E3939D6F5F123&0\n",
      "Caption: Adafruit nRF UF2 USB Device\n",
      "Model: Adafruit nRF UF2 USB Device\n",
      "Size (bytes): 32901120\n",
      "\n"
     ]
    },
    {
     "ename": "KeyboardInterrupt",
     "evalue": "",
     "output_type": "error",
     "traceback": [
      "\u001b[1;31m---------------------------------------------------------------------------\u001b[0m",
      "\u001b[1;31mKeyboardInterrupt\u001b[0m                         Traceback (most recent call last)",
      "Cell \u001b[1;32mIn[7], line 58\u001b[0m\n\u001b[0;32m     56\u001b[0m     \u001b[38;5;28;01mreturn\u001b[39;00m \u001b[38;5;28;01mNone\u001b[39;00m\n\u001b[0;32m     57\u001b[0m \u001b[38;5;28;01mif\u001b[39;00m \u001b[38;5;18m__name__\u001b[39m \u001b[38;5;241m==\u001b[39m \u001b[38;5;124m\"\u001b[39m\u001b[38;5;124m__main__\u001b[39m\u001b[38;5;124m\"\u001b[39m:\n\u001b[1;32m---> 58\u001b[0m     \u001b[43mdetect_new_storage_devices\u001b[49m\u001b[43m(\u001b[49m\u001b[43m)\u001b[49m\n",
      "Cell \u001b[1;32mIn[7], line 16\u001b[0m, in \u001b[0;36mdetect_new_storage_devices\u001b[1;34m()\u001b[0m\n\u001b[0;32m     12\u001b[0m initial_devices \u001b[38;5;241m=\u001b[39m wmi\u001b[38;5;241m.\u001b[39mExecQuery(query)\n\u001b[0;32m     14\u001b[0m \u001b[38;5;28;01mwhile\u001b[39;00m \u001b[38;5;28;01mTrue\u001b[39;00m:\n\u001b[0;32m     15\u001b[0m     \u001b[38;5;66;03m# Wait for a while to detect changes (adjust the time as needed)\u001b[39;00m\n\u001b[1;32m---> 16\u001b[0m     \u001b[43mtime\u001b[49m\u001b[38;5;241;43m.\u001b[39;49m\u001b[43msleep\u001b[49m\u001b[43m(\u001b[49m\u001b[38;5;241;43m5\u001b[39;49m\u001b[43m)\u001b[49m\n\u001b[0;32m     18\u001b[0m     \u001b[38;5;66;03m# Get the current list of storage devices\u001b[39;00m\n\u001b[0;32m     19\u001b[0m     current_devices \u001b[38;5;241m=\u001b[39m wmi\u001b[38;5;241m.\u001b[39mExecQuery(query)\n",
      "\u001b[1;31mKeyboardInterrupt\u001b[0m: "
     ]
    }
   ],
   "source": [
    "import win32com.client\n",
    "import time\n",
    "\n",
    "def detect_new_storage_devices():\n",
    "    # Create a WMI (Windows Management Instrumentation) object\n",
    "    wmi = win32com.client.GetObject(\"winmgmts:\")\n",
    "\n",
    "    # Define the WMI query to get storage devices\n",
    "    query = \"SELECT * FROM Win32_DiskDrive\"\n",
    "\n",
    "    # Get the initial list of storage devices\n",
    "    initial_devices = wmi.ExecQuery(query)\n",
    "\n",
    "    while True:\n",
    "        # Wait for a while to detect changes (adjust the time as needed)\n",
    "        time.sleep(5)\n",
    "\n",
    "        # Get the current list of storage devices\n",
    "        current_devices = wmi.ExecQuery(query)\n",
    "\n",
    "        # Find the new devices by comparing with the initial list\n",
    "        new_devices = [device for device in current_devices if device not in initial_devices]\n",
    "\n",
    "        if new_devices:\n",
    "            print(\"New storage device(s) detected:\")\n",
    "            for device in new_devices:\n",
    "                try:\n",
    "                    drive_letter = get_drive_letter(device)\n",
    "                \n",
    "                    print(\"Drive Letter:\", drive_letter)\n",
    "                except IndexError:\n",
    "                    pass\n",
    "                print(\"Device ID:\", device.DeviceID)\n",
    "                print(\"Device GUID:\", device.PNPDeviceID)\n",
    "\n",
    "                print(\"Caption:\", device.Caption)\n",
    "                print(\"Model:\", device.Model)\n",
    "                print(\"Size (bytes):\", device.Size)\n",
    "                print()\n",
    "\n",
    "            # Update the initial list to prevent re-detection of the same devices\n",
    "            initial_devices = current_devices\n",
    "def get_drive_letter(device):\n",
    "    # Use Win32_DiskDriveToDiskPartition and Win32_LogicalDiskToPartition to find the drive letter\n",
    "    partition_query = \"ASSOCIATORS OF {{Win32_DiskDrive.DeviceID='{}'}} WHERE AssocClass=Win32_DiskDriveToDiskPartition\".format(device.DeviceID)\n",
    "    partitions = win32com.client.GetObject(\"winmgmts:\").ExecQuery(partition_query)\n",
    "\n",
    "    if partitions:\n",
    "        partition = partitions[0]\n",
    "        logical_query = \"ASSOCIATORS OF {{Win32_DiskPartition.DeviceID='{}'}} WHERE AssocClass=Win32_LogicalDiskToPartition\".format(partition.DeviceID)\n",
    "        logical_disks = win32com.client.GetObject(\"winmgmts:\").ExecQuery(logical_query)\n",
    "\n",
    "        if logical_disks:\n",
    "            return logical_disks[0].DeviceID\n",
    "\n",
    "    return None\n",
    "if __name__ == \"__main__\":\n",
    "    detect_new_storage_devices()"
   ]
  },
  {
   "cell_type": "code",
   "execution_count": null,
   "metadata": {},
   "outputs": [],
   "source": [
    "left_keeb_did =  \"USBSTOR\\DISK&VEN_ADAFRUIT&PROD_NRF_UF2&REV_1.0\\7&369CD32&0&EBD319DBC5802C01&0\"\n",
    "right_keeb_did = \"USBSTOR\\DISK&VEN_ADAFRUIT&PROD_NRF_UF2&REV_1.0\\7&1F7E9535&0&1B6E3939D6F5F123&0\"\n",
    "\n"
   ]
  },
  {
   "cell_type": "code",
   "execution_count": null,
   "metadata": {},
   "outputs": [],
   "source": []
  }
 ],
 "metadata": {
  "kernelspec": {
   "display_name": "env",
   "language": "python",
   "name": "python3"
  },
  "language_info": {
   "codemirror_mode": {
    "name": "ipython",
    "version": 3
   },
   "file_extension": ".py",
   "mimetype": "text/x-python",
   "name": "python",
   "nbconvert_exporter": "python",
   "pygments_lexer": "ipython3",
   "version": "3.11.7"
  }
 },
 "nbformat": 4,
 "nbformat_minor": 2
}
