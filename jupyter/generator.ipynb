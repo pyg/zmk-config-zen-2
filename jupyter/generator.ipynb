{
 "cells": [
  {
   "cell_type": "code",
   "execution_count": 1,
   "metadata": {},
   "outputs": [],
   "source": [
    "test_str = \"\"\"&kp TAB        &lt 4 Q      &lt 5 W     &lt 1 E     &kp R            &kp T              &kp Y     &kp U    &kp I       &kp O       &kp P             &kp BSLH\n",
    "         &kp CAPS      &kp A        &kp S       &kp D       &kp F            &kp G              &kp H     &kp J    &kp K       &kp L       &lt_tp 2 SQT      &kp ENTER\n",
    "         &sk LSHFT      &mt LSHFT Z        &kp X       &kp C       &kp V            &kp B              &kp N     &kp M    &kp COMMA   &kp DOT     &kp SLASH         &lt 3 RSHFT\n",
    "                                            &kp LALT  &kp SPACE  &mt_bl RSHFT SPACE               &mt_bl RSHFT EQUAL   &kp BSPC  &kp DEL                   \n",
    "         \"\"\""
   ]
  },
  {
   "cell_type": "code",
   "execution_count": 2,
   "metadata": {},
   "outputs": [],
   "source": [
    "tokens = test_str.split()"
   ]
  },
  {
   "cell_type": "code",
   "execution_count": 15,
   "metadata": {},
   "outputs": [],
   "source": [
    "types = []\n",
    "vals = []\n",
    "mods = []\n",
    "\n",
    "key_vals = []\n",
    "key_type = None\n",
    "\n",
    "for token in tokens:\n",
    "    if token.startswith(\"&\"):\n",
    "        if len(key_vals) == 1:\n",
    "            mods.append(None)\n",
    "            vals.append(key_vals[0])\n",
    "        elif len(key_vals) > 1:\n",
    "            mods.append(key_vals[0])\n",
    "            vals.append(key_vals[1])\n",
    "        key_vals = []\n",
    "        key_type = token\n",
    "        types.append(token)\n",
    "    else:\n",
    "        key_vals.append(token)\n",
    "if len(key_vals) == 1:\n",
    "    vals.append(key_vals[0])\n",
    "elif len(key_vals) > 1:\n",
    "    vals.append(key_vals)"
   ]
  },
  {
   "cell_type": "code",
   "execution_count": 17,
   "metadata": {},
   "outputs": [],
   "source": [
    "types_rows = []\n",
    "mods_rows = []\n",
    "vals_rows = []\n",
    "\n",
    "for i in range(0,len(vals),12):\n",
    "    types_rows.append(types[i:i+12])\n",
    "    mods_rows.append(mods[i:i+12])\n",
    "    vals_rows.append(vals[i:i+12])"
   ]
  },
  {
   "cell_type": "code",
   "execution_count": 23,
   "metadata": {},
   "outputs": [
    {
     "name": "stdout",
     "output_type": "stream",
     "text": [
      "['&sk', '&mt', '&kp', '&kp', '&kp', '&kp', '&kp', '&kp', '&kp', '&kp', '&kp', '&lt']\n"
     ]
    }
   ],
   "source": [
    "print(types_rows[2])"
   ]
  },
  {
   "cell_type": "code",
   "execution_count": 24,
   "metadata": {},
   "outputs": [
    {
     "name": "stdout",
     "output_type": "stream",
     "text": [
      "[None, 'LSHFT', None, None, None, None, None, None, None, None, None, '3']\n"
     ]
    }
   ],
   "source": [
    "print(mods_rows[2])"
   ]
  },
  {
   "cell_type": "code",
   "execution_count": 25,
   "metadata": {},
   "outputs": [
    {
     "name": "stdout",
     "output_type": "stream",
     "text": [
      "['LSHFT', 'Z', 'X', 'C', 'V', 'B', 'N', 'M', 'COMMA', 'DOT', 'SLASH', 'RSHFT']\n"
     ]
    }
   ],
   "source": [
    "print(vals_rows[2])"
   ]
  },
  {
   "cell_type": "code",
   "execution_count": 26,
   "metadata": {},
   "outputs": [],
   "source": [
    "types = ['&sk', '&mt', '&kp', '&kp', '&kp', '&kp', '&kp', '&kp', '&kp', '&kp', '&kp', '&lt']\n",
    "mods = [None, 'LSHFT', None, None, None, None, None, None, None, None, None, '3']\n",
    "vals = ['LSHFT', 'Z', 'X', 'LGUI', 'C', 'V', 'B', 'N', 'M', 'COMMA', 'DOT', 'SLASH']"
   ]
  },
  {
   "cell_type": "code",
   "execution_count": 31,
   "metadata": {},
   "outputs": [],
   "source": [
    "line = \"\"\n",
    "for  _type, mod, val in zip(types, mods, vals):\n",
    "    line += \" \".join([_type, mod, val]) if mod else \" \".join([_type, val]) + \"\\t\""
   ]
  },
  {
   "cell_type": "code",
   "execution_count": 33,
   "metadata": {},
   "outputs": [
    {
     "name": "stdout",
     "output_type": "stream",
     "text": [
      "&sk LSHFT\t&mt LSHFT LSHFT&kp Z\t&kp X\t&kp C\t&kp V\t&kp B\t&kp N\t&kp M\t&kp COMMA\t&kp DOT\t&lt 3 SLASH\n"
     ]
    }
   ],
   "source": [
    "print(line)"
   ]
  },
  {
   "cell_type": "code",
   "execution_count": null,
   "metadata": {},
   "outputs": [],
   "source": []
  }
 ],
 "metadata": {
  "kernelspec": {
   "display_name": "env",
   "language": "python",
   "name": "python3"
  },
  "language_info": {
   "codemirror_mode": {
    "name": "ipython",
    "version": 3
   },
   "file_extension": ".py",
   "mimetype": "text/x-python",
   "name": "python",
   "nbconvert_exporter": "python",
   "pygments_lexer": "ipython3",
   "version": "3.11.7"
  }
 },
 "nbformat": 4,
 "nbformat_minor": 2
}
